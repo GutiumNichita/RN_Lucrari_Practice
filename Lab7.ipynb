{
 "cells": [
  {
   "cell_type": "markdown",
   "metadata": {},
   "source": [
    "## Învățarea prin transfer folosind datele MNIST\n",
    "Pentru a ilustra puterea și conceptul de învățare prin transfer, vom antrena o rețea neuronală convoluțională (CNN) doar pe cifrele 5,6,7,8,9. Apoi vom antrena doar ultimul strat (straturi) al rețelei pe cifrele 0,1,2,3,4 și vom vedea cât de bine ajută caracteristicile învățate pe 5-9 la clasificarea 0-4.\n",
    "\n",
    "Adaptat de la https://github.com/fchollet/keras/blob/master/examples/mnist_transfer_cnn.py"
   ]
  },
  {
   "cell_type": "code",
   "execution_count": 1,
   "metadata": {},
   "outputs": [],
   "source": [
    "from __future__ import print_function\n",
    "\n",
    "import datetime\n",
    "import keras\n",
    "from keras.datasets import mnist\n",
    "from keras.models import Sequential\n",
    "from keras.layers import Dense, Dropout, Activation, Flatten\n",
    "from keras.layers import Conv2D, MaxPooling2D\n",
    "from keras import backend as K"
   ]
  },
  {
   "cell_type": "code",
   "execution_count": 2,
   "metadata": {},
   "outputs": [],
   "source": [
    "# Folosit pentru a ajuta unele dintre funcțiile de temporizare\n",
    "now = datetime.datetime.now"
   ]
  },
  {
   "cell_type": "code",
   "execution_count": 3,
   "metadata": {},
   "outputs": [],
   "source": [
    "# setam unii parametri\n",
    "batch_size = 128\n",
    "num_classes = 5\n",
    "epochs = 5"
   ]
  },
  {
   "cell_type": "code",
   "execution_count": 4,
   "metadata": {},
   "outputs": [],
   "source": [
    "# setam mai multi parametri\n",
    "img_rows, img_cols = 28, 28\n",
    "filters = 32\n",
    "pool_size = 2\n",
    "kernel_size = 3"
   ]
  },
  {
   "cell_type": "code",
   "execution_count": 5,
   "metadata": {},
   "outputs": [],
   "source": [
    "## Acest lucru gestionează doar o anumită variabilitate în modul în care datele de intrare sunt încărcate.\n",
    "\n",
    "if K.image_data_format() == 'channels_first':\n",
    "    input_shape = (1, img_rows, img_cols)\n",
    "else:\n",
    "    input_shape = (img_rows, img_cols, 1)"
   ]
  },
  {
   "cell_type": "code",
   "execution_count": 6,
   "metadata": {},
   "outputs": [],
   "source": [
    "## Pentru a simplifica lucrurile, scrieți o funcție pentru a include toți pașii de antrenament\n",
    "## Ca intrare, funcția primește un model, setul de antrenament, setul de testare și numărul de clase\n",
    "## În interiorul obiectului modelului va fi starea despre ce straturi înghețăm și ce straturi antrenăm\n",
    "\n",
    "def train_model(model, train, test, num_classes):\n",
    "    x_train = train[0].reshape((train[0].shape[0],) + input_shape)\n",
    "    x_test = test[0].reshape((test[0].shape[0],) + input_shape)\n",
    "    x_train = x_train.astype('float32')\n",
    "    x_test = x_test.astype('float32')\n",
    "    x_train /= 255\n",
    "    x_test /= 255\n",
    "    print('x_train shape:', x_train.shape)\n",
    "    print(x_train.shape[0], 'train samples')\n",
    "    print(x_test.shape[0], 'test samples')\n",
    "\n",
    "    # convert class vectors to binary class matrices\n",
    "    y_train = keras.utils.to_categorical(train[1], num_classes)\n",
    "    y_test = keras.utils.to_categorical(test[1], num_classes)\n",
    "\n",
    "    model.compile(loss='categorical_crossentropy',\n",
    "                  optimizer='adadelta',\n",
    "                  metrics=['accuracy'])\n",
    "\n",
    "    t = now()\n",
    "    model.fit(x_train, y_train,\n",
    "              batch_size=batch_size,\n",
    "              epochs=epochs,\n",
    "              verbose=1,\n",
    "              validation_data=(x_test, y_test))\n",
    "    print('Training time: %s' % (now() - t))\n",
    "\n",
    "    score = model.evaluate(x_test, y_test, verbose=0)\n",
    "    print('Test score:', score[0])\n",
    "    print('Test accuracy:', score[1])"
   ]
  },
  {
   "cell_type": "code",
   "execution_count": 7,
   "metadata": {},
   "outputs": [],
   "source": [
    "# datele, amestecate și împărțite între seturile de antrenare și testare\n",
    "(x_train, y_train), (x_test, y_test) = mnist.load_data()\n",
    "\n",
    "# creați două seturi de date: unul cu cifre mai mici decât 5 și unul cu 5 și mai mari\n",
    "x_train_lt5 = x_train[y_train < 5]\n",
    "y_train_lt5 = y_train[y_train < 5]\n",
    "x_test_lt5 = x_test[y_test < 5]\n",
    "y_test_lt5 = y_test[y_test < 5]\n",
    "\n",
    "x_train_gte5 = x_train[y_train >= 5]\n",
    "y_train_gte5 = y_train[y_train >= 5] - 5\n",
    "x_test_gte5 = x_test[y_test >= 5]\n",
    "y_test_gte5 = y_test[y_test >= 5] - 5"
   ]
  },
  {
   "cell_type": "code",
   "execution_count": 8,
   "metadata": {},
   "outputs": [],
   "source": [
    "# Definiți straturile \"feature\". Acestea sunt straturile timpurii pe care ne așteptăm să \"transferăm\"\n",
    "# la o nouă problemă. Vom îngheța aceste straturi în timpul procesului de ajustare fino.\n",
    "\n",
    "feature_layers = [\n",
    "    Conv2D(filters, kernel_size,\n",
    "           padding='valid',\n",
    "           input_shape=input_shape),\n",
    "    Activation('relu'),\n",
    "    Conv2D(filters, kernel_size),\n",
    "    Activation('relu'),\n",
    "    MaxPooling2D(pool_size=pool_size),\n",
    "    Dropout(0.25),\n",
    "    Flatten(),\n",
    "]"
   ]
  },
  {
   "cell_type": "code",
   "execution_count": 9,
   "metadata": {},
   "outputs": [],
   "source": [
    "# Definiți straturile \"classification\". Acestea sunt straturile ulterioare care prezic clasele specifice din caracteristicile\n",
    "# învățate de straturile \"feature\". Aceasta este partea modelului care trebuie re-antrenată pentru o problemă nouă\n",
    "\n",
    "classification_layers = [\n",
    "    Dense(128),\n",
    "    Activation('relu'),\n",
    "    Dropout(0.5),\n",
    "    Dense(num_classes),\n",
    "    Activation('softmax')\n",
    "]"
   ]
  },
  {
   "cell_type": "code",
   "execution_count": 10,
   "metadata": {},
   "outputs": [],
   "source": [
    "# Modelul nostru este creat prin combinarea celor două seturi de straturi astfel:\n",
    "model = Sequential(feature_layers + classification_layers)"
   ]
  },
  {
   "cell_type": "code",
   "execution_count": 11,
   "metadata": {},
   "outputs": [
    {
     "name": "stdout",
     "output_type": "stream",
     "text": [
      "Model: \"sequential\"\n",
      "_________________________________________________________________\n",
      " Layer (type)                Output Shape              Param #   \n",
      "=================================================================\n",
      " conv2d (Conv2D)             (None, 26, 26, 32)        320       \n",
      "                                                                 \n",
      " activation (Activation)     (None, 26, 26, 32)        0         \n",
      "                                                                 \n",
      " conv2d_1 (Conv2D)           (None, 24, 24, 32)        9248      \n",
      "                                                                 \n",
      " activation_1 (Activation)   (None, 24, 24, 32)        0         \n",
      "                                                                 \n",
      " max_pooling2d (MaxPooling2D  (None, 12, 12, 32)       0         \n",
      " )                                                               \n",
      "                                                                 \n",
      " dropout (Dropout)           (None, 12, 12, 32)        0         \n",
      "                                                                 \n",
      " flatten (Flatten)           (None, 4608)              0         \n",
      "                                                                 \n",
      " dense (Dense)               (None, 128)               589952    \n",
      "                                                                 \n",
      " activation_2 (Activation)   (None, 128)               0         \n",
      "                                                                 \n",
      " dropout_1 (Dropout)         (None, 128)               0         \n",
      "                                                                 \n",
      " dense_1 (Dense)             (None, 5)                 645       \n",
      "                                                                 \n",
      " activation_3 (Activation)   (None, 5)                 0         \n",
      "                                                                 \n",
      "=================================================================\n",
      "Total params: 600,165\n",
      "Trainable params: 600,165\n",
      "Non-trainable params: 0\n",
      "_________________________________________________________________\n"
     ]
    }
   ],
   "source": [
    "# Să aruncăm o privire\n",
    "model.summary()"
   ]
  },
  {
   "cell_type": "code",
   "execution_count": 12,
   "metadata": {
    "scrolled": true
   },
   "outputs": [
    {
     "name": "stdout",
     "output_type": "stream",
     "text": [
      "x_train shape: (29404, 28, 28, 1)\n",
      "29404 train samples\n",
      "4861 test samples\n",
      "Epoch 1/5\n",
      "230/230 [==============================] - 47s 199ms/step - loss: 1.6114 - accuracy: 0.2056 - val_loss: 1.5950 - val_accuracy: 0.2907\n",
      "Epoch 2/5\n",
      "230/230 [==============================] - 45s 196ms/step - loss: 1.5936 - accuracy: 0.2511 - val_loss: 1.5758 - val_accuracy: 0.3843\n",
      "Epoch 3/5\n",
      "230/230 [==============================] - 53s 231ms/step - loss: 1.5750 - accuracy: 0.3065 - val_loss: 1.5558 - val_accuracy: 0.4950\n",
      "Epoch 4/5\n",
      "230/230 [==============================] - 50s 217ms/step - loss: 1.5560 - accuracy: 0.3645 - val_loss: 1.5340 - val_accuracy: 0.6135\n",
      "Epoch 5/5\n",
      "230/230 [==============================] - 48s 210ms/step - loss: 1.5353 - accuracy: 0.4264 - val_loss: 1.5096 - val_accuracy: 0.7056\n",
      "Training time: 0:04:02.985329\n",
      "Test score: 1.509598970413208\n",
      "Test accuracy: 0.7056161165237427\n"
     ]
    }
   ],
   "source": [
    "# Acum, să antrenăm modelul nostru pe cifrele 5,6,7,8,9\n",
    "\n",
    "train_model(model,\n",
    "            (x_train_gte5, y_train_gte5),\n",
    "            (x_test_gte5, y_test_gte5), num_classes)"
   ]
  },
  {
   "cell_type": "markdown",
   "metadata": {},
   "source": [
    "### Înghețarea Straturilor\n",
    "Keras permite \"înghețarea\" straturilor în timpul procesului de antrenament. Adică, unele straturi ar avea actualizate ponderile lor în timpul procesului de antrenament, în timp ce altele nu ar. Acest lucru este o parte de bază a învățării prin transfer, capacitatea de a antrena doar ultimul strat sau mai multe straturi.\n",
    "\n",
    "De asemenea, rețineți că mult timpul de antrenament este petrecut \"propagând\" gradientele înapoi la primul strat. Prin urmare, dacă trebuie să calculăm gradientele înapoi doar pentru un număr mic de straturi, timpul de antrenament este mult mai rapid pe iterație. Acest lucru este în plus față de economiile obținute prin posibilitatea de a antrena pe un set de date mai mic."
   ]
  },
  {
   "cell_type": "code",
   "execution_count": 13,
   "metadata": {},
   "outputs": [],
   "source": [
    "# Înghețați doar \n",
    "for l in feature_layers:\n",
    "    l.trainable = False"
   ]
  },
  {
   "cell_type": "markdown",
   "metadata": {},
   "source": [
    "Observați diferențele dintre numărul total de *parametri*, *parametri antrenabili* și *parametri non-antrenabili*."
   ]
  },
  {
   "cell_type": "code",
   "execution_count": 14,
   "metadata": {},
   "outputs": [
    {
     "name": "stdout",
     "output_type": "stream",
     "text": [
      "Model: \"sequential\"\n",
      "_________________________________________________________________\n",
      " Layer (type)                Output Shape              Param #   \n",
      "=================================================================\n",
      " conv2d (Conv2D)             (None, 26, 26, 32)        320       \n",
      "                                                                 \n",
      " activation (Activation)     (None, 26, 26, 32)        0         \n",
      "                                                                 \n",
      " conv2d_1 (Conv2D)           (None, 24, 24, 32)        9248      \n",
      "                                                                 \n",
      " activation_1 (Activation)   (None, 24, 24, 32)        0         \n",
      "                                                                 \n",
      " max_pooling2d (MaxPooling2D  (None, 12, 12, 32)       0         \n",
      " )                                                               \n",
      "                                                                 \n",
      " dropout (Dropout)           (None, 12, 12, 32)        0         \n",
      "                                                                 \n",
      " flatten (Flatten)           (None, 4608)              0         \n",
      "                                                                 \n",
      " dense (Dense)               (None, 128)               589952    \n",
      "                                                                 \n",
      " activation_2 (Activation)   (None, 128)               0         \n",
      "                                                                 \n",
      " dropout_1 (Dropout)         (None, 128)               0         \n",
      "                                                                 \n",
      " dense_1 (Dense)             (None, 5)                 645       \n",
      "                                                                 \n",
      " activation_3 (Activation)   (None, 5)                 0         \n",
      "                                                                 \n",
      "=================================================================\n",
      "Total params: 600,165\n",
      "Trainable params: 590,597\n",
      "Non-trainable params: 9,568\n",
      "_________________________________________________________________\n"
     ]
    }
   ],
   "source": [
    "model.summary()"
   ]
  },
  {
   "cell_type": "code",
   "execution_count": 15,
   "metadata": {},
   "outputs": [
    {
     "name": "stdout",
     "output_type": "stream",
     "text": [
      "x_train shape: (30596, 28, 28, 1)\n",
      "30596 train samples\n",
      "5139 test samples\n",
      "Epoch 1/5\n",
      "240/240 [==============================] - 20s 81ms/step - loss: 1.5636 - accuracy: 0.3373 - val_loss: 1.5421 - val_accuracy: 0.4797\n",
      "Epoch 2/5\n",
      "240/240 [==============================] - 19s 79ms/step - loss: 1.5336 - accuracy: 0.4048 - val_loss: 1.5099 - val_accuracy: 0.5472\n",
      "Epoch 3/5\n",
      "240/240 [==============================] - 21s 86ms/step - loss: 1.5039 - accuracy: 0.4684 - val_loss: 1.4766 - val_accuracy: 0.6468\n",
      "Epoch 4/5\n",
      "240/240 [==============================] - 19s 81ms/step - loss: 1.4741 - accuracy: 0.5200 - val_loss: 1.4423 - val_accuracy: 0.7342\n",
      "Epoch 5/5\n",
      "240/240 [==============================] - 18s 76ms/step - loss: 1.4423 - accuracy: 0.5710 - val_loss: 1.4070 - val_accuracy: 0.7867\n",
      "Training time: 0:01:37.401651\n",
      "Test score: 1.407010555267334\n",
      "Test accuracy: 0.7867289185523987\n"
     ]
    }
   ],
   "source": [
    "train_model(model,\n",
    "            (x_train_lt5, y_train_lt5),\n",
    "            (x_test_lt5, y_test_lt5), num_classes)"
   ]
  },
  {
   "cell_type": "markdown",
   "metadata": {},
   "source": [
    "Rețineți că după o singură epocă, obținem deja rezultate în clasificarea cifrelor 0-4 care sunt comparabile cu cele obținute pentru cifrele 5-9 după 5 epoci complete. Aceasta în ciuda faptului că \"ajustăm fin\" doar ultimul strat al rețelei, iar toate straturile anterioare nu au văzut niciodată cum arată cifrele 0-4.\n",
    "\n",
    "De asemenea, observați că, chiar dacă aproape toți (590K/600K) *parametrii* erau antrenabili, timpul de antrenament pe epocă a fost totuși mult redus. Aceasta se datorează faptului că partea neînghețată a rețelei era foarte puțin adâncă, făcând propagarea înapoi mai rapidă."
   ]
  },
  {
   "cell_type": "markdown",
   "metadata": {},
   "source": [
    "## Exercițiu\n",
    "### De făcut:\n",
    "- Acum scrieți cod pentru a inversa acest proces de antrenament. Adică, veți antrena pe cifrele 0-4, iar apoi veți ajusta fin doar ultimele straturi pe cifrele 5-9."
   ]
  },
  {
   "cell_type": "code",
   "execution_count": 16,
   "metadata": {},
   "outputs": [
    {
     "name": "stdout",
     "output_type": "stream",
     "text": [
      "Epoch 1/5\n",
      "240/240 [==============================] - 28s 116ms/step - loss: 0.1302 - accuracy: 0.9630\n",
      "Epoch 2/5\n",
      "240/240 [==============================] - 24s 102ms/step - loss: 0.0257 - accuracy: 0.9923\n",
      "Epoch 3/5\n",
      "240/240 [==============================] - 25s 103ms/step - loss: 0.0165 - accuracy: 0.9948\n",
      "Epoch 4/5\n",
      "240/240 [==============================] - 26s 108ms/step - loss: 0.0122 - accuracy: 0.9963\n",
      "Epoch 5/5\n",
      "240/240 [==============================] - 29s 121ms/step - loss: 0.0079 - accuracy: 0.9977\n",
      "Epoch 1/5\n",
      "230/230 [==============================] - 14s 41ms/step - loss: 0.2994 - accuracy: 0.9295\n",
      "Epoch 2/5\n",
      "230/230 [==============================] - 9s 39ms/step - loss: 0.0496 - accuracy: 0.9844\n",
      "Epoch 3/5\n",
      "230/230 [==============================] - 7s 33ms/step - loss: 0.0345 - accuracy: 0.9891\n",
      "Epoch 4/5\n",
      "230/230 [==============================] - 9s 38ms/step - loss: 0.0258 - accuracy: 0.9924\n",
      "Epoch 5/5\n",
      "230/230 [==============================] - 8s 35ms/step - loss: 0.0225 - accuracy: 0.9933\n"
     ]
    },
    {
     "data": {
      "text/plain": [
       "<keras.callbacks.History at 0x23802b7d890>"
      ]
     },
     "execution_count": 16,
     "metadata": {},
     "output_type": "execute_result"
    }
   ],
   "source": [
    "from tensorflow.keras.datasets import mnist\n",
    "from tensorflow.keras.utils import to_categorical\n",
    "from tensorflow.keras.models import Sequential\n",
    "from tensorflow.keras.layers import Conv2D, MaxPooling2D, Flatten, Dense\n",
    "\n",
    "(x_train, y_train), (x_test, y_test) = mnist.load_data()\n",
    "\n",
    "x_train_0_4 = x_train[y_train < 5]\n",
    "y_train_0_4 = y_train[y_train < 5]\n",
    "\n",
    "x_train_5_9 = x_train[y_train >= 5]\n",
    "y_train_5_9 = y_train[y_train >= 5] - 5\n",
    "\n",
    "x_train_0_4 = x_train_0_4.astype('float32') / 255\n",
    "x_train_5_9 = x_train_5_9.astype('float32') / 255\n",
    "\n",
    "x_train_0_4 = x_train_0_4.reshape(x_train_0_4.shape[0], 28, 28, 1)\n",
    "x_train_5_9 = x_train_5_9.reshape(x_train_5_9.shape[0], 28, 28, 1)\n",
    "\n",
    "y_train_0_4 = to_categorical(y_train_0_4, 5)\n",
    "y_train_5_9 = to_categorical(y_train_5_9, 5)\n",
    "\n",
    "model = Sequential()\n",
    "model.add(Conv2D(32, kernel_size=(3, 3), activation='relu', input_shape=(28, 28, 1)))\n",
    "model.add(MaxPooling2D(pool_size=(2, 2)))\n",
    "model.add(Conv2D(64, kernel_size=(3, 3), activation='relu'))\n",
    "model.add(MaxPooling2D(pool_size=(2, 2)))\n",
    "model.add(Flatten())\n",
    "model.add(Dense(128, activation='relu'))\n",
    "model.add(Dense(5, activation='softmax'))\n",
    "\n",
    "model.compile(optimizer='adam', loss='categorical_crossentropy', metrics=['accuracy'])\n",
    "\n",
    "model.fit(x_train_0_4, y_train_0_4, batch_size=128, epochs=5, verbose=1)\n",
    "\n",
    "for layer in model.layers[:-2]:\n",
    "    layer.trainable = False\n",
    "\n",
    "model.compile(optimizer='adam', loss='categorical_crossentropy', metrics=['accuracy'])\n",
    "\n",
    "model.fit(x_train_5_9, y_train_5_9, batch_size=128, epochs=5, verbose=1)"
   ]
  },
  {
   "cell_type": "code",
   "execution_count": null,
   "metadata": {},
   "outputs": [],
   "source": []
  }
 ],
 "metadata": {
  "kernelspec": {
   "display_name": "Python 3 (ipykernel)",
   "language": "python",
   "name": "python3"
  },
  "language_info": {
   "codemirror_mode": {
    "name": "ipython",
    "version": 3
   },
   "file_extension": ".py",
   "mimetype": "text/x-python",
   "name": "python",
   "nbconvert_exporter": "python",
   "pygments_lexer": "ipython3",
   "version": "3.11.4"
  }
 },
 "nbformat": 4,
 "nbformat_minor": 4
}
