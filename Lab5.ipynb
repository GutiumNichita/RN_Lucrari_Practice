{
 "cells": [
  {
   "cell_type": "markdown",
   "metadata": {},
   "source": [
    "## Detectare imagini scrise de mână cu Keras folosind datele MNIST\n",
    "\n",
    "În acest exercițiu vom lucra cu date de imagini: în mod specific cu setul de date MNIST. Acest set de date conține 70.000 de imagini cu cifre scrise de mână în tonuri de gri (0=negru, 255 = alb). Imaginile au dimensiunea de 28 de pixeli pe 28 de pixeli pentru un total de 784 de pixeli. Aceasta este destul de mică conform standardelor de imagini. De asemenea, imaginile sunt bine centrate și izolate. Aceasta face ca această problemă să fie solvabilă cu rețele neurale complet conectate standard fără prelucrări prea complexe."
   ]
  },
  {
   "cell_type": "markdown",
   "metadata": {},
   "source": [
    "În prima parte a acestui caiet, vă vom ghida în încărcarea datelor, construirea unei rețele și antrenarea acesteia. Apoi va fi rândul dumneavoastră să încercați diferite modele și să vedeți dacă puteți îmbunătăți performanța."
   ]
  },
  {
   "cell_type": "code",
   "execution_count": 1,
   "metadata": {},
   "outputs": [],
   "source": [
    "# Preliminarii\n",
    "\n",
    "from __future__ import print_function\n",
    "\n",
    "import keras\n",
    "from keras.datasets import mnist\n",
    "from keras.models import Sequential\n",
    "from keras.layers import Dense, Dropout\n",
    "from keras.optimizers import RMSprop\n",
    "\n",
    "import numpy as np\n",
    "import matplotlib.pyplot as plt\n",
    "%matplotlib inline"
   ]
  },
  {
   "cell_type": "markdown",
   "metadata": {
    "collapsed": true,
    "jupyter": {
     "outputs_hidden": true
    }
   },
   "source": [
    "Hai să explorăm setul de date puțin."
   ]
  },
  {
   "cell_type": "code",
   "execution_count": 3,
   "metadata": {},
   "outputs": [],
   "source": [
    "# Încărcați datele, amestecate și împărțite între seturile de antrenare și testare (x_train și y_train)\n",
    "(x_train, y_train), (x_test, y_test) = mnist.load_data()"
   ]
  },
  {
   "cell_type": "code",
   "execution_count": 4,
   "metadata": {},
   "outputs": [
    {
     "data": {
      "text/plain": [
       "(28, 28)"
      ]
     },
     "execution_count": 4,
     "metadata": {},
     "output_type": "execute_result"
    }
   ],
   "source": [
    "x_train[0].shape"
   ]
  },
  {
   "cell_type": "code",
   "execution_count": 5,
   "metadata": {},
   "outputs": [
    {
     "data": {
      "text/plain": [
       "array([[  0,   0,   0,   0,   0,   0,   0,   0,   0,   0,   0,   0,   0,\n",
       "          0,   0,   0,   0,   0,   0,   0,   0,   0,   0,   0,   0,   0,\n",
       "          0,   0],\n",
       "       [  0,   0,   0,   0,   0,   0,   0,   0,   0,   0,   0,   0,   0,\n",
       "          0,   0,   0,   0,   0,   0,   0,   0,   0,   0,   0,   0,   0,\n",
       "          0,   0],\n",
       "       [  0,   0,   0,   0,   0,   0,   0,   0,   0,   0,   0,   0,   0,\n",
       "          0,   0,   0,   0,   0,   0,   0,   0,   0,   0,   0,   0,   0,\n",
       "          0,   0],\n",
       "       [  0,   0,   0,   0,   0,   0,   0,   0,   0,   0,   0,   0,   0,\n",
       "          0,   0,   0,   0,   0,   0,   0,   0,   0,   0,   0,   0,   0,\n",
       "          0,   0],\n",
       "       [  0,   0,   0,   0,   0,   0,   0,   0,   0,   0,   0,   0,   0,\n",
       "          0,   0,   0,   0,   0,   0,   0,   0,   0,   0,   0,   0,   0,\n",
       "          0,   0],\n",
       "       [  0,   0,   0,   0,   0,   0,   0,   0,   0,   0,   0,  87, 138,\n",
       "        170, 253, 201, 244, 212, 222, 138,  86,  22,   0,   0,   0,   0,\n",
       "          0,   0],\n",
       "       [  0,   0,   0,   0,   0,   0,   0,   0,   0,   0,  95, 253, 252,\n",
       "        252, 252, 252, 253, 252, 252, 252, 252, 245,  80,   0,   0,   0,\n",
       "          0,   0],\n",
       "       [  0,   0,   0,   0,   0,   0,   0,   0,   0,  68, 246, 205,  69,\n",
       "         69,  69,  69,  69,  69,  69,  69, 205, 253, 240,  50,   0,   0,\n",
       "          0,   0],\n",
       "       [  0,   0,   0,   0,   0,   0,   0,   0,   0, 187, 252, 218,  34,\n",
       "          0,   0,   0,   0,   0,   0,   0, 116, 253, 252,  69,   0,   0,\n",
       "          0,   0],\n",
       "       [  0,   0,   0,   0,   0,   0,   0,   0, 116, 248, 252, 253,  92,\n",
       "          0,   0,   0,   0,   0,   0,  95, 230, 253, 157,   6,   0,   0,\n",
       "          0,   0],\n",
       "       [  0,   0,   0,   0,   0,   0,   0,   0, 116, 249, 253, 189,  42,\n",
       "          0,   0,   0,   0,  36, 170, 253, 243, 158,   0,   0,   0,   0,\n",
       "          0,   0],\n",
       "       [  0,   0,   0,   0,   0,   0,   0,   0,   0, 133, 252, 245, 140,\n",
       "         34,   0,   0,  57, 219, 252, 235,  60,   0,   0,   0,   0,   0,\n",
       "          0,   0],\n",
       "       [  0,   0,   0,   0,   0,   0,   0,   0,   0,  25, 205, 253, 252,\n",
       "        234, 184, 184, 253, 240, 100,  44,   0,   0,   0,   0,   0,   0,\n",
       "          0,   0],\n",
       "       [  0,   0,   0,   0,   0,   0,   0,   0,   0,   0,  21, 161, 219,\n",
       "        252, 252, 252, 234,  37,   0,   0,   0,   0,   0,   0,   0,   0,\n",
       "          0,   0],\n",
       "       [  0,   0,   0,   0,   0,   0,   0,   0,   0,   0,   0,  11, 203,\n",
       "        252, 252, 252, 251, 135,   0,   0,   0,   0,   0,   0,   0,   0,\n",
       "          0,   0],\n",
       "       [  0,   0,   0,   0,   0,   0,   0,   0,   0,   9,  76, 255, 253,\n",
       "        205, 168, 220, 255, 253, 137,   5,   0,   0,   0,   0,   0,   0,\n",
       "          0,   0],\n",
       "       [  0,   0,   0,   0,   0,   0,   0,   0,   0, 114, 252, 249, 132,\n",
       "         25,   0,   0, 180, 252, 252,  45,   0,   0,   0,   0,   0,   0,\n",
       "          0,   0],\n",
       "       [  0,   0,   0,   0,   0,   0,   0,   0,  51, 220, 252, 199,   0,\n",
       "          0,   0,   0,  38, 186, 252, 154,   7,   0,   0,   0,   0,   0,\n",
       "          0,   0],\n",
       "       [  0,   0,   0,   0,   0,   0,   0,   0, 184, 252, 252,  21,   0,\n",
       "          0,   0,   0,   0,  67, 252, 252,  22,   0,   0,   0,   0,   0,\n",
       "          0,   0],\n",
       "       [  0,   0,   0,   0,   0,   0,   0,   0, 184, 252, 200,   0,   0,\n",
       "          0,   0,   0,   0,  47, 252, 252,  22,   0,   0,   0,   0,   0,\n",
       "          0,   0],\n",
       "       [  0,   0,   0,   0,   0,   0,   0,   0, 185, 253, 201,   0,   0,\n",
       "          0,   0,   0,   3, 118, 253, 245,  21,   0,   0,   0,   0,   0,\n",
       "          0,   0],\n",
       "       [  0,   0,   0,   0,   0,   0,   0,   0, 163, 252, 252,   0,   0,\n",
       "          0,   0,   0,  97, 252, 252,  87,   0,   0,   0,   0,   0,   0,\n",
       "          0,   0],\n",
       "       [  0,   0,   0,   0,   0,   0,   0,   0,  51, 240, 252, 123,  70,\n",
       "         70, 112, 184, 222, 252, 170,  13,   0,   0,   0,   0,   0,   0,\n",
       "          0,   0],\n",
       "       [  0,   0,   0,   0,   0,   0,   0,   0,   0, 165, 252, 253, 252,\n",
       "        252, 252, 252, 245, 139,  13,   0,   0,   0,   0,   0,   0,   0,\n",
       "          0,   0],\n",
       "       [  0,   0,   0,   0,   0,   0,   0,   0,   0,   9,  75, 253, 252,\n",
       "        221, 137, 137,  21,   0,   0,   0,   0,   0,   0,   0,   0,   0,\n",
       "          0,   0],\n",
       "       [  0,   0,   0,   0,   0,   0,   0,   0,   0,   0,   0,   0,   0,\n",
       "          0,   0,   0,   0,   0,   0,   0,   0,   0,   0,   0,   0,   0,\n",
       "          0,   0],\n",
       "       [  0,   0,   0,   0,   0,   0,   0,   0,   0,   0,   0,   0,   0,\n",
       "          0,   0,   0,   0,   0,   0,   0,   0,   0,   0,   0,   0,   0,\n",
       "          0,   0],\n",
       "       [  0,   0,   0,   0,   0,   0,   0,   0,   0,   0,   0,   0,   0,\n",
       "          0,   0,   0,   0,   0,   0,   0,   0,   0,   0,   0,   0,   0,\n",
       "          0,   0]], dtype=uint8)"
      ]
     },
     "execution_count": 5,
     "metadata": {},
     "output_type": "execute_result"
    }
   ],
   "source": [
    "# Să ne uităm doar la un exemplu particular pentru a vedea ce conține\n",
    "\n",
    "x_train[333]  ## Doar un tablou numpy de 28 x 28 de întregi de la 0 la 255"
   ]
  },
  {
   "cell_type": "code",
   "execution_count": 6,
   "metadata": {},
   "outputs": [
    {
     "data": {
      "text/plain": [
       "8"
      ]
     },
     "execution_count": 6,
     "metadata": {},
     "output_type": "execute_result"
    }
   ],
   "source": [
    "# Care este eticheta corespunzătoare în setul de antrenare? raspuns: 333\n",
    "y_train[333]"
   ]
  },
  {
   "cell_type": "code",
   "execution_count": 7,
   "metadata": {},
   "outputs": [
    {
     "data": {
      "text/plain": [
       "<matplotlib.image.AxesImage at 0x192fd9ced10>"
      ]
     },
     "execution_count": 7,
     "metadata": {},
     "output_type": "execute_result"
    },
    {
     "data": {
      "image/png": "[encoded data removed]",
      "text/plain": [
       "<Figure size 640x480 with 1 Axes>"
      ]
     },
     "metadata": {},
     "output_type": "display_data"
    }
   ],
   "source": [
    "# Să vedem cum arată de fapt această imagine\n",
    "\n",
    "plt.imshow(x_train[333], cmap='Greys_r')"
   ]
  },
  {
   "cell_type": "code",
   "execution_count": 8,
   "metadata": {},
   "outputs": [
    {
     "name": "stdout",
     "output_type": "stream",
     "text": [
      "(60000, 28, 28) train samples\n",
      "(10000, 28, 28) test samples\n"
     ]
    }
   ],
   "source": [
    "# Aceasta este forma np.array x_train\n",
    "# Este tridimensională.\n",
    "print(x_train.shape, 'train samples')\n",
    "print(x_test.shape, 'test samples')"
   ]
  },
  {
   "cell_type": "code",
   "execution_count": 9,
   "metadata": {},
   "outputs": [],
   "source": [
    "## Pentru scopurile noastre, aceste imagini sunt doar un vector de 784 de intrări, așa că să le convertim\n",
    "x_train = x_train.reshape(len(x_train), 28*28)\n",
    "x_test = x_test.reshape(len(x_test), 28*28)\n",
    "\n",
    "## Keras lucrează cu numere în virgulă mobilă, așa că trebuie să convertim numerele în float\n",
    "x_train = x_train.astype('float32')\n",
    "x_test = x_test.astype('float32')\n",
    "\n",
    "## Normalizăm intrările astfel încât să fie între 0 și 1\n",
    "x_train /= 255\n",
    "x_test /= 255\n"
   ]
  },
  {
   "cell_type": "code",
   "execution_count": 10,
   "metadata": {},
   "outputs": [
    {
     "data": {
      "text/plain": [
       "array([0., 0., 0., 0., 0., 0., 0., 0., 1., 0.], dtype=float32)"
      ]
     },
     "execution_count": 10,
     "metadata": {},
     "output_type": "execute_result"
    }
   ],
   "source": [
    "# convertiți vectorii de clasă în matrice de clasă binară\n",
    "num_classes = 10\n",
    "y_train = keras.utils.to_categorical(y_train, num_classes)\n",
    "y_test = keras.utils.to_categorical(y_test, num_classes)\n",
    "\n",
    "y_train[333]  # acum cifra k este reprezentată de un 1 în a k-a intrare (indexat de la 0) a vectorului de lungime 10"
   ]
  },
  {
   "cell_type": "code",
   "execution_count": 11,
   "metadata": {},
   "outputs": [],
   "source": [
    "## Vom construi un model cu două straturi ascunse de dimensiune 512\n",
    "## Intrări complet conectate la fiecare strat\n",
    "## Vom folosi dropout de .2 pentru a ajuta la regularizare\n",
    "model_1 = Sequential()\n",
    "model_1.add(Dense(64, activation='relu', input_shape=(784,)))\n",
    "model_1.add(Dropout(0.2))\n",
    "model_1.add(Dense(64, activation='relu'))\n",
    "model_1.add(Dropout(0.2))\n",
    "model_1.add(Dense(10, activation='softmax'))"
   ]
  },
  {
   "cell_type": "code",
   "execution_count": 12,
   "metadata": {},
   "outputs": [
    {
     "name": "stdout",
     "output_type": "stream",
     "text": [
      "Model: \"sequential\"\n",
      "_________________________________________________________________\n",
      " Layer (type)                Output Shape              Param #   \n",
      "=================================================================\n",
      " dense (Dense)               (None, 64)                50240     \n",
      "                                                                 \n",
      " dropout (Dropout)           (None, 64)                0         \n",
      "                                                                 \n",
      " dense_1 (Dense)             (None, 64)                4160      \n",
      "                                                                 \n",
      " dropout_1 (Dropout)         (None, 64)                0         \n",
      "                                                                 \n",
      " dense_2 (Dense)             (None, 10)                650       \n",
      "                                                                 \n",
      "=================================================================\n",
      "Total params: 55,050\n",
      "Trainable params: 55,050\n",
      "Non-trainable params: 0\n",
      "_________________________________________________________________\n"
     ]
    }
   ],
   "source": [
    "## Observați că acest model are FOARTE mulți parametri.\n",
    "model_1.summary()"
   ]
  },
  {
   "cell_type": "code",
   "execution_count": 14,
   "metadata": {},
   "outputs": [],
   "source": [
    "# Să compilăm modelul\n",
    "learning_rate = .001\n",
    "model_1.compile(loss='categorical_crossentropy',\n",
    "              optimizer=RMSprop(learning_rate),\n",
    "              metrics=['accuracy'])\n",
    "# Observați că categorical cross entropy este generalizarea naturală\n",
    "# a funcției de pierdere pe care am avut-o în cazul clasificării binare, la cazul multi-clasă"
   ]
  },
  {
   "cell_type": "code",
   "execution_count": 15,
   "metadata": {},
   "outputs": [
    {
     "name": "stdout",
     "output_type": "stream",
     "text": [
      "Epoch 1/30\n",
      "469/469 [==============================] - 2s 4ms/step - loss: 0.4991 - accuracy: 0.8509 - val_loss: 0.1980 - val_accuracy: 0.9366\n",
      "Epoch 2/30\n",
      "469/469 [==============================] - 2s 3ms/step - loss: 0.2459 - accuracy: 0.9281 - val_loss: 0.1622 - val_accuracy: 0.9511\n",
      "Epoch 3/30\n",
      "469/469 [==============================] - 2s 3ms/step - loss: 0.1963 - accuracy: 0.9419 - val_loss: 0.1238 - val_accuracy: 0.9634\n",
      "Epoch 4/30\n",
      "469/469 [==============================] - 2s 3ms/step - loss: 0.1702 - accuracy: 0.9497 - val_loss: 0.1124 - val_accuracy: 0.9655\n",
      "Epoch 5/30\n",
      "469/469 [==============================] - 2s 3ms/step - loss: 0.1574 - accuracy: 0.9536 - val_loss: 0.1049 - val_accuracy: 0.9678\n",
      "Epoch 6/30\n",
      "469/469 [==============================] - 2s 3ms/step - loss: 0.1429 - accuracy: 0.9575 - val_loss: 0.1043 - val_accuracy: 0.9676\n",
      "Epoch 7/30\n",
      "469/469 [==============================] - 2s 4ms/step - loss: 0.1339 - accuracy: 0.9598 - val_loss: 0.1027 - val_accuracy: 0.9685\n",
      "Epoch 8/30\n",
      "469/469 [==============================] - 2s 3ms/step - loss: 0.1250 - accuracy: 0.9626 - val_loss: 0.0971 - val_accuracy: 0.9708\n",
      "Epoch 9/30\n",
      "469/469 [==============================] - 2s 3ms/step - loss: 0.1197 - accuracy: 0.9650 - val_loss: 0.0963 - val_accuracy: 0.9725\n",
      "Epoch 10/30\n",
      "469/469 [==============================] - 2s 3ms/step - loss: 0.1154 - accuracy: 0.9658 - val_loss: 0.0902 - val_accuracy: 0.9730\n",
      "Epoch 11/30\n",
      "469/469 [==============================] - 2s 3ms/step - loss: 0.1126 - accuracy: 0.9671 - val_loss: 0.0943 - val_accuracy: 0.9723\n",
      "Epoch 12/30\n",
      "469/469 [==============================] - 2s 3ms/step - loss: 0.1114 - accuracy: 0.9671 - val_loss: 0.0919 - val_accuracy: 0.9720\n",
      "Epoch 13/30\n",
      "469/469 [==============================] - 2s 3ms/step - loss: 0.1051 - accuracy: 0.9685 - val_loss: 0.0937 - val_accuracy: 0.9745\n",
      "Epoch 14/30\n",
      "469/469 [==============================] - 2s 3ms/step - loss: 0.1024 - accuracy: 0.9696 - val_loss: 0.0981 - val_accuracy: 0.9703\n",
      "Epoch 15/30\n",
      "469/469 [==============================] - 2s 3ms/step - loss: 0.0996 - accuracy: 0.9701 - val_loss: 0.0959 - val_accuracy: 0.9739\n",
      "Epoch 16/30\n",
      "469/469 [==============================] - 2s 3ms/step - loss: 0.1018 - accuracy: 0.9702 - val_loss: 0.0974 - val_accuracy: 0.9738\n",
      "Epoch 17/30\n",
      "469/469 [==============================] - 2s 3ms/step - loss: 0.0981 - accuracy: 0.9712 - val_loss: 0.0955 - val_accuracy: 0.9744\n",
      "Epoch 18/30\n",
      "469/469 [==============================] - 2s 3ms/step - loss: 0.0966 - accuracy: 0.9711 - val_loss: 0.0927 - val_accuracy: 0.9759\n",
      "Epoch 19/30\n",
      "469/469 [==============================] - 2s 3ms/step - loss: 0.0904 - accuracy: 0.9728 - val_loss: 0.0930 - val_accuracy: 0.9748\n",
      "Epoch 20/30\n",
      "469/469 [==============================] - 2s 4ms/step - loss: 0.0902 - accuracy: 0.9729 - val_loss: 0.0986 - val_accuracy: 0.9745\n",
      "Epoch 21/30\n",
      "469/469 [==============================] - 2s 3ms/step - loss: 0.0898 - accuracy: 0.9731 - val_loss: 0.0980 - val_accuracy: 0.9748\n",
      "Epoch 22/30\n",
      "469/469 [==============================] - 2s 3ms/step - loss: 0.0891 - accuracy: 0.9739 - val_loss: 0.0961 - val_accuracy: 0.9756\n",
      "Epoch 23/30\n",
      "469/469 [==============================] - 2s 3ms/step - loss: 0.0876 - accuracy: 0.9744 - val_loss: 0.1029 - val_accuracy: 0.9740\n",
      "Epoch 24/30\n",
      "469/469 [==============================] - 2s 3ms/step - loss: 0.0878 - accuracy: 0.9747 - val_loss: 0.1029 - val_accuracy: 0.9756\n",
      "Epoch 25/30\n",
      "469/469 [==============================] - 2s 3ms/step - loss: 0.0906 - accuracy: 0.9733 - val_loss: 0.0952 - val_accuracy: 0.9758\n",
      "Epoch 26/30\n",
      "469/469 [==============================] - 2s 3ms/step - loss: 0.0848 - accuracy: 0.9747 - val_loss: 0.1060 - val_accuracy: 0.9745\n",
      "Epoch 27/30\n",
      "469/469 [==============================] - 2s 3ms/step - loss: 0.0868 - accuracy: 0.9754 - val_loss: 0.1052 - val_accuracy: 0.9750\n",
      "Epoch 28/30\n",
      "469/469 [==============================] - 2s 3ms/step - loss: 0.0843 - accuracy: 0.9754 - val_loss: 0.1018 - val_accuracy: 0.9732\n",
      "Epoch 29/30\n",
      "469/469 [==============================] - 2s 3ms/step - loss: 0.0842 - accuracy: 0.9754 - val_loss: 0.0953 - val_accuracy: 0.9772\n",
      "Epoch 30/30\n",
      "469/469 [==============================] - 2s 3ms/step - loss: 0.0797 - accuracy: 0.9771 - val_loss: 0.0997 - val_accuracy: 0.9770\n"
     ]
    }
   ],
   "source": [
    "# Și acum să ajustăm modelul:\n",
    "\n",
    "batch_size = 128  # Mini-batch cu 128 de exemple.\n",
    "epochs = 30\n",
    "history = model_1.fit(\n",
    "    x_train, y_train,\n",
    "    batch_size=batch_size,\n",
    "    epochs=epochs,\n",
    "    verbose=1,\n",
    "    validation_data=(x_test, y_test))"
   ]
  },
  {
   "cell_type": "code",
   "execution_count": 16,
   "metadata": {},
   "outputs": [
    {
     "name": "stdout",
     "output_type": "stream",
     "text": [
      "Test loss: 0.099723681807518\n",
      "Test accuracy: 0.9769999980926514\n"
     ]
    }
   ],
   "source": [
    "## Vom folosi funcția evaluate din Keras pentru a evalua performanța pe setul de testare.\n",
    "score = model_1.evaluate(x_test, y_test, verbose=0)\n",
    "print('Test loss:', score[0])\n",
    "print('Test accuracy:', score[1])"
   ]
  },
  {
   "cell_type": "code",
   "execution_count": 18,
   "metadata": {},
   "outputs": [
    {
     "data": {
      "image/png": "[encoded data removed]",
      "text/plain": [
       "<Figure size 1200x600 with 2 Axes>"
      ]
     },
     "metadata": {},
     "output_type": "display_data"
    }
   ],
   "source": [
    "def plot_loss_accuracy(history):\n",
    "    fig = plt.figure(figsize=(12, 6))\n",
    "    ax = fig.add_subplot(1, 2, 1)\n",
    "    ax.plot(history.history[\"loss\"],'r-x', label=\"Train Loss\")\n",
    "    ax.plot(history.history[\"val_loss\"],'b-x', label=\"Validation Loss\")\n",
    "    ax.legend()\n",
    "    ax.set_title('cross_entropy loss')\n",
    "    ax.grid(True)\n",
    "\n",
    "\n",
    "    ax = fig.add_subplot(1, 2, 2)\n",
    "    ax.plot(history.history[\"accuracy\"],'r-x', label=\"Train Accuracy\")\n",
    "    ax.plot(history.history[\"val_accuracy\"],'b-x', label=\"Validation Accuracy\")\n",
    "    ax.legend()\n",
    "    ax.set_title('accuracy')\n",
    "    ax.grid(True)\n",
    "    \n",
    "\n",
    "plot_loss_accuracy(history)"
   ]
  },
  {
   "cell_type": "markdown",
   "metadata": {},
   "source": [
    "Aceasta este o performanță destul de bună, dar putem face și mai bine! În continuare, veți construi o rețea și mai mare și veți compara performanța."
   ]
  },
  {
   "cell_type": "markdown",
   "metadata": {},
   "source": [
    "## Exercițiu\n",
    "### Rândul tău: Construiește-ți propriul model\n",
    "Folosește funcționalitatea \"Sequential\" din Keras pentru a construi `model_2` cu următoarele specificații:\n",
    "\n",
    "1. Două straturi ascunse.\n",
    "2. Primul strat ascuns de dimensiune 400 și al doilea de dimensiune 300.\n",
    "3. Dropout de .4 la fiecare strat.\n",
    "4. Câți parametri are modelul tău? Cum se compară cu modelul anterior?\n",
    "5. Antrenează acest model pentru 20 de epoci cu RMSProp la o rată de învățare de .001 și o dimensiune a lotului de 128."
   ]
  },
  {
   "cell_type": "code",
   "execution_count": 19,
   "metadata": {},
   "outputs": [
    {
     "name": "stdout",
     "output_type": "stream",
     "text": [
      "Model: \"sequential_1\"\n",
      "_________________________________________________________________\n",
      " Layer (type)                Output Shape              Param #   \n",
      "=================================================================\n",
      " dense_3 (Dense)             (None, 400)               314000    \n",
      "                                                                 \n",
      " dropout_2 (Dropout)         (None, 400)               0         \n",
      "                                                                 \n",
      " dense_4 (Dense)             (None, 300)               120300    \n",
      "                                                                 \n",
      " dropout_3 (Dropout)         (None, 300)               0         \n",
      "                                                                 \n",
      " dense_5 (Dense)             (None, 10)                3010      \n",
      "                                                                 \n",
      "=================================================================\n",
      "Total params: 437,310\n",
      "Trainable params: 437,310\n",
      "Non-trainable params: 0\n",
      "_________________________________________________________________\n"
     ]
    }
   ],
   "source": [
    "### Construieste modelul aici\n",
    "\n",
    "from keras.models import Sequential\n",
    "from keras.layers import Dense, Dropout\n",
    "from keras.optimizers import RMSprop\n",
    "\n",
    "# Define the model\n",
    "model_2 = Sequential()\n",
    "model_2.add(Dense(400, activation='relu', input_shape=(784,)))\n",
    "model_2.add(Dropout(0.4))\n",
    "model_2.add(Dense(300, activation='relu'))\n",
    "model_2.add(Dropout(0.4))\n",
    "model_2.add(Dense(10, activation='softmax'))\n",
    "\n",
    "# Display model summary\n",
    "model_2.summary()\n"
   ]
  },
  {
   "cell_type": "markdown",
   "metadata": {
    "collapsed": true,
    "jupyter": {
     "outputs_hidden": true
    }
   },
   "source": [
    "## Reflectați asupra următoarelor întrebări\n",
    "\n",
    "1) Cum se compară modelul_1 și modelul_2? Pe care îl preferiți? Dacă ați trebui să alegeți unul pentru producție, pe care l-ați alege și de ce?\n",
    "\n",
    "2) Comparați traiectoriile funcției de pierdere pe setul de antrenare și testare pentru fiecare model. Cum se compară acestea? Ce sugerează acest lucru despre fiecare model? Faceți același lucru pentru acuratețe. Care credeți că este mai semnificativ, pierderea sau acuratețea?\n",
    "\n",
    "3) Să sugerezi o îmbunătățire pentru unul dintre modele (schimbarea structurii, ratei de învățare, numărul de epoci, etc.) pe care crezi că va duce la un model mai bun. Încercați-o mai jos. A îmbunătățit performanța?"
   ]
  },
  {
   "cell_type": "code",
   "execution_count": 26,
   "metadata": {},
   "outputs": [],
   "source": [
    "## 1. Modelul_1 și modelul_2 au diferențe semnificative în arhitectură și numărul de parametri.\n",
    "## Modelul_1 are două straturi ascunse de dimensiune 512 fiecare, în timp ce modelul_2 are două straturi ascunse de dimensiune 400 și 300, respectiv.\n",
    "## De asemenea, modelul_1 utilizează dropout cu o rată de 0.2, în timp ce modelul_2 utilizează dropout cu o rată de 0.4. Dacă ar trebui să aleg unul pentru producție, aș alege modelul_1 deoarece pare să fie mai simplu și ar putea fi mai ușor de antrenat și de gestionat."
   ]
  },
  {
   "cell_type": "code",
   "execution_count": 27,
   "metadata": {},
   "outputs": [],
   "source": [
    "## 2. Traiectoriile funcțiilor de pierdere și acuratețe pe setul de antrenare și testare pentru ambele modele arată că ambele modele sunt supuse de overfitting.\n",
    "## Cu toate acestea, modelul_1 pare să aibă o performanță legată de overfitting mai bună decât modelul_2, deoarece pierderea și acuratețea pe setul de testare rămân mai apropiate de cele pe setul de antrenare.\n",
    "## Acuratețea este mai semnificativă decât pierderea, deoarece oferă o măsură mai directă a performanței modelului."
   ]
  },
  {
   "cell_type": "code",
   "execution_count": 28,
   "metadata": {},
   "outputs": [],
   "source": [
    "## 3. Pentru a îmbunătăți performanța unuia dintre modele, aș putea încerca să reduc rata de învățare, să măresc numărul de epoci sau să experimentez cu diferite arhitecturi de rețea neurală.\n",
    "## De exemplu, aș putea să măresc dimensiunea straturilor ascunse sau să adaug mai multe straturi ascunse.\n",
    "## Voi încerca să măresc dimensiunea straturilor ascunse în modelul_1 și să observ dacă acest lucru îmbunătățește performanța acestuia."
   ]
  }
 ],
 "metadata": {
  "kernelspec": {
   "display_name": "Python 3 (ipykernel)",
   "language": "python",
   "name": "python3"
  },
  "language_info": {
   "codemirror_mode": {
    "name": "ipython",
    "version": 3
   },
   "file_extension": ".py",
   "mimetype": "text/x-python",
   "name": "python",
   "nbconvert_exporter": "python",
   "pygments_lexer": "ipython3",
   "version": "3.11.4"
  }
 },
 "nbformat": 4,
 "nbformat_minor": 4
}
